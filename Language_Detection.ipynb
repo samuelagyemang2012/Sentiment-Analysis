{
  "nbformat": 4,
  "nbformat_minor": 0,
  "metadata": {
    "colab": {
      "provenance": [],
      "collapsed_sections": [
        "ukNwjyuw2MO5",
        "SMDpjD062ZNY",
        "uGG22bHOsxTF",
        "q6dImYqQ0Zme",
        "vy6r3FMs4Ee8"
      ],
      "mount_file_id": "10c8X3H8838lPGHTvUBaYNxKp8Cepwh3U",
      "authorship_tag": "ABX9TyPno8gfbtgpdilQkDboXg7v",
      "include_colab_link": true
    },
    "kernelspec": {
      "name": "python3",
      "display_name": "Python 3"
    },
    "language_info": {
      "name": "python"
    }
  },
  "cells": [
    {
      "cell_type": "markdown",
      "metadata": {
        "id": "view-in-github",
        "colab_type": "text"
      },
      "source": [
        "<a href=\"https://colab.research.google.com/github/samuelagyemang2012/Sentiment-Analysis/blob/master/Language_Detection.ipynb\" target=\"_parent\"><img src=\"https://colab.research.google.com/assets/colab-badge.svg\" alt=\"Open In Colab\"/></a>"
      ]
    },
    {
      "cell_type": "markdown",
      "source": [
        "# Important packages"
      ],
      "metadata": {
        "id": "OugIuY9k2Dgh"
      }
    },
    {
      "cell_type": "code",
      "metadata": {
        "id": "yZBLIFMxrutX"
      },
      "source": [
        "pip install langdetect unidecode spacy_langdetect langid fasttext"
      ],
      "execution_count": null,
      "outputs": []
    },
    {
      "cell_type": "markdown",
      "source": [
        "# Imports"
      ],
      "metadata": {
        "id": "olPeH7c52Hyn"
      }
    },
    {
      "cell_type": "code",
      "metadata": {
        "id": "Ib5v2HhcrlD2"
      },
      "source": [
        "import spacy\n",
        "from spacy_langdetect import LanguageDetector\n",
        "from langdetect import detect\n",
        "import pandas as pd\n",
        "import numpy as np\n",
        "import langid\n",
        "import fasttext\n",
        "import warnings\n",
        "warnings. filterwarnings(\"ignore\")"
      ],
      "execution_count": null,
      "outputs": []
    },
    {
      "cell_type": "markdown",
      "source": [
        "# Load data here - Text data\n",
        "- data_path = 'some/path/to/data.csv'\n",
        "-df = pd.read_csv(data_ath)\n",
        "-text_data_list = df['column_with_text_data'].to_list()"
      ],
      "metadata": {
        "id": "ukNwjyuw2MO5"
      }
    },
    {
      "cell_type": "code",
      "metadata": {
        "colab": {
          "base_uri": "https://localhost:8080/"
        },
        "id": "DTdT-7lpsF1G",
        "outputId": "059bc363-bbf0-4f6e-91d5-0d7e93f8d9c0"
      },
      "source": [
        "# Load your Data Gere\n",
        "reviews_data_path = \"/content/drive/MyDrive/ML Data/hotel_reviews.csv\"\n",
        "df = pd.read_csv(reviews_data_path)\n",
        "print(df.head())\n",
        "hotel = \"Best Western Plus French Quarter Landmark Hotel\" #\"Knights Inn Amarillo Airport\"\n",
        "hotel_df = df.loc[df['name'] == hotel]\n",
        "hotel_reviews = hotel_df[\"reviews.text\"].tolist()\n",
        "print(len(hotel_reviews))"
      ],
      "execution_count": null,
      "outputs": [
        {
          "output_type": "stream",
          "text": [
            "                  address categories  ... reviews.username reviews.userProvince\n",
            "0  Riviera San Nicol 11/a     Hotels  ...      Russ (kent)                  NaN\n",
            "1  Riviera San Nicol 11/a     Hotels  ...       A Traveler                  NaN\n",
            "2  Riviera San Nicol 11/a     Hotels  ...             Maud                  NaN\n",
            "3  Riviera San Nicol 11/a     Hotels  ...            Julie                  NaN\n",
            "4  Riviera San Nicol 11/a     Hotels  ...         sungchul                  NaN\n",
            "\n",
            "[5 rows x 19 columns]\n",
            "215\n"
          ],
          "name": "stdout"
        }
      ]
    },
    {
      "cell_type": "markdown",
      "source": [
        "# Important Functions"
      ],
      "metadata": {
        "id": "SMDpjD062ZNY"
      }
    },
    {
      "cell_type": "code",
      "metadata": {
        "id": "S2z5eiQKs02l"
      },
      "source": [
        "def merge_reviews(sentences):\n",
        "    all_data = \"\"\n",
        "    for s in sentences:\n",
        "      all_data += s+\"\\n\"\n",
        "\n",
        "    return all_data"
      ],
      "execution_count": null,
      "outputs": []
    },
    {
      "cell_type": "code",
      "metadata": {
        "id": "6iL1IdoZsTXG"
      },
      "source": [
        "# Initialize Spacy\n",
        "nlp = spacy.load(\"en_core_web_sm\")\n",
        "nlp.spacy_max_length = 2000000\n",
        "nlp.add_pipe(LanguageDetector(), name='language_detector', last=True)"
      ],
      "execution_count": null,
      "outputs": []
    },
    {
      "cell_type": "code",
      "metadata": {
        "colab": {
          "base_uri": "https://localhost:8080/"
        },
        "id": "8lEoPaFAsv7e",
        "outputId": "abecd1c2-1a65-4091-ef44-4faa6300e539"
      },
      "source": [
        "# Split sentences\n",
        "%%time\n",
        "m_ = merge_reviews(hotel_reviews)\n",
        "doc_ = nlp(m_)\n",
        "\n",
        "sentences = []\n",
        "i=0\n",
        "for sent in doc_.sents:\n",
        "  sent = sent.text.strip().replace(\"\\n\",\" \")\n",
        "  x = sent.split(\" \")\n",
        "  if len(x) > 1:\n",
        "    sentences.append(sent)\n",
        "\n",
        "print(len(sentences))"
      ],
      "execution_count": null,
      "outputs": [
        {
          "output_type": "stream",
          "text": [
            "1082\n",
            "CPU times: user 1.9 s, sys: 110 ms, total: 2.01 s\n",
            "Wall time: 2.02 s\n"
          ],
          "name": "stdout"
        }
      ]
    },
    {
      "cell_type": "markdown",
      "metadata": {
        "id": "uGG22bHOsxTF"
      },
      "source": [
        "# Spacy Lang Detect  Test"
      ]
    },
    {
      "cell_type": "code",
      "metadata": {
        "colab": {
          "base_uri": "https://localhost:8080/"
        },
        "id": "SFWxW68Qtylz",
        "outputId": "e9bed913-96b8-4209-e7b9-527c476d198b"
      },
      "source": [
        "%%time\n",
        "spacy_false =[]\n",
        "for sent in doc_.sents:\n",
        "  if sent._.language[\"language\"] == \"en\":\n",
        "    pass\n",
        "  else:\n",
        "    if len(sent.text.split(\" \")) > 1:\n",
        "      spacy_false.append(sent.text.strip())\n",
        "\n",
        "print(len(spacy_false))\n",
        "\n",
        "# for sf in spacy_false:\n",
        "#   print(sf)"
      ],
      "execution_count": null,
      "outputs": [
        {
          "output_type": "stream",
          "text": [
            "42\n",
            "CPU times: user 8.37 s, sys: 77.8 ms, total: 8.45 s\n",
            "Wall time: 8.47 s\n"
          ],
          "name": "stdout"
        }
      ]
    },
    {
      "cell_type": "markdown",
      "metadata": {
        "id": "q6dImYqQ0Zme"
      },
      "source": [
        "# LangDetect Test"
      ]
    },
    {
      "cell_type": "code",
      "metadata": {
        "colab": {
          "base_uri": "https://localhost:8080/"
        },
        "id": "D9tWrbYv0dk0",
        "outputId": "4afa4c70-5365-41b6-835c-760ecfefb26f"
      },
      "source": [
        "%%time\n",
        "ld_false = []\n",
        "\n",
        "for sent in sentences:\n",
        "  try:\n",
        "    if detect(sent) == \"en\":\n",
        "      pass\n",
        "    else:\n",
        "      ld_false.append(sent.strip())\n",
        "  except:\n",
        "    pass\n",
        "\n",
        "print(len(ld_false))\n",
        "\n",
        "# for ld in ld_false:\n",
        "#   print(ld)"
      ],
      "execution_count": null,
      "outputs": [
        {
          "output_type": "stream",
          "text": [
            "44\n",
            "CPU times: user 6.45 s, sys: 71.7 ms, total: 6.53 s\n",
            "Wall time: 6.53 s\n"
          ],
          "name": "stdout"
        }
      ]
    },
    {
      "cell_type": "markdown",
      "metadata": {
        "id": "vy6r3FMs4Ee8"
      },
      "source": [
        "# Langid Test"
      ]
    },
    {
      "cell_type": "code",
      "metadata": {
        "colab": {
          "base_uri": "https://localhost:8080/"
        },
        "id": "9NCm008x4D0l",
        "outputId": "a5ea4bd5-a27d-4fc8-c2ef-fb34b3914e34"
      },
      "source": [
        "%%time\n",
        "lg_false = []\n",
        "\n",
        "for sent in sentences:\n",
        "  try:\n",
        "    if langid.classify(sent)[0] == \"en\":\n",
        "      pass\n",
        "    else:\n",
        "      lg_false.append(sent.strip())\n",
        "  except:\n",
        "    pass\n",
        "\n",
        "print(len(lg_false))\n",
        "\n",
        "# for ld in lg_false:\n",
        "#   print(ld)"
      ],
      "execution_count": null,
      "outputs": [
        {
          "output_type": "stream",
          "text": [
            "18\n",
            "CPU times: user 3.89 s, sys: 1.78 s, total: 5.66 s\n",
            "Wall time: 3.84 s\n"
          ],
          "name": "stdout"
        }
      ]
    },
    {
      "cell_type": "markdown",
      "metadata": {
        "id": "2a1Kpbv06W_i"
      },
      "source": [
        "# FastText Test - :-)"
      ]
    },
    {
      "cell_type": "code",
      "metadata": {
        "colab": {
          "base_uri": "https://localhost:8080/"
        },
        "id": "BR4j_pUU6aZY",
        "outputId": "5030de11-9769-48cb-effa-f4a13c7aa876"
      },
      "source": [
        "%%time\n",
        "path_to_pretrained_model = '/content/drive/MyDrive/ML Data/lid.176.ftz'\n",
        "fmodel = fasttext.load_model(path_to_pretrained_model)\n",
        "\n",
        "ff_false=[]\n",
        "\n",
        "for sent in sentences:\n",
        "  try:\n",
        "    if fmodel.predict([sent])[0][0][0].split(\"__label__\")[1] == \"en\":\n",
        "      pass\n",
        "    else:\n",
        "      ff_false.append(sent.strip())\n",
        "  except:\n",
        "    pass\n",
        "\n",
        "print(len(ff_false))"
      ],
      "execution_count": null,
      "outputs": [
        {
          "output_type": "stream",
          "text": [
            "5\n",
            "CPU times: user 59.7 ms, sys: 19.3 ms, total: 78.9 ms\n",
            "Wall time: 464 ms\n"
          ],
          "name": "stdout"
        },
        {
          "output_type": "stream",
          "text": [
            "Warning : `load_model` does not return WordVectorModel or SupervisedModel any more, but a `FastText` object which is very similar.\n"
          ],
          "name": "stderr"
        }
      ]
    }
  ]
}